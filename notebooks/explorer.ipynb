{
 "cells": [
  {
   "cell_type": "markdown",
   "metadata": {},
   "source": [
    "## Explore the data ##"
   ]
  },
  {
   "cell_type": "code",
   "execution_count": 1,
   "metadata": {},
   "outputs": [],
   "source": [
    "from utils.DataHandler import DataHandler\n",
    "# edited settings.json \"jupyter.notebookFileRoot\": \"${workspaceFolder}\""
   ]
  },
  {
   "cell_type": "code",
   "execution_count": 2,
   "metadata": {},
   "outputs": [
    {
     "name": "stdout",
     "output_type": "stream",
     "text": [
      "General Info\n",
      "<class 'pandas.core.frame.DataFrame'>\n",
      "RangeIndex: 3192 entries, 0 to 3191\n",
      "Data columns (total 9 columns):\n",
      " #   Column                                     Non-Null Count  Dtype  \n",
      "---  ------                                     --------------  -----  \n",
      " 0   dt                                         3192 non-null   object \n",
      " 1   LandAverageTemperature                     3180 non-null   float64\n",
      " 2   LandAverageTemperatureUncertainty          3180 non-null   float64\n",
      " 3   LandMaxTemperature                         1992 non-null   float64\n",
      " 4   LandMaxTemperatureUncertainty              1992 non-null   float64\n",
      " 5   LandMinTemperature                         1992 non-null   float64\n",
      " 6   LandMinTemperatureUncertainty              1992 non-null   float64\n",
      " 7   LandAndOceanAverageTemperature             1992 non-null   float64\n",
      " 8   LandAndOceanAverageTemperatureUncertainty  1992 non-null   float64\n",
      "dtypes: float64(8), object(1)\n",
      "memory usage: 224.6+ KB\n",
      "       LandAverageTemperature  LandAverageTemperatureUncertainty  \\\n",
      "count             3180.000000                        3180.000000   \n",
      "mean                 8.374731                           0.938468   \n",
      "std                  4.381310                           1.096440   \n",
      "min                 -2.080000                           0.034000   \n",
      "25%                  4.312000                           0.186750   \n",
      "50%                  8.610500                           0.392000   \n",
      "75%                 12.548250                           1.419250   \n",
      "max                 19.021000                           7.880000   \n",
      "\n",
      "       LandMaxTemperature  LandMaxTemperatureUncertainty  LandMinTemperature  \\\n",
      "count         1992.000000                    1992.000000         1992.000000   \n",
      "mean            14.350601                       0.479782            2.743595   \n",
      "std              4.309579                       0.583203            4.155835   \n",
      "min              5.900000                       0.044000           -5.407000   \n",
      "25%             10.212000                       0.142000           -1.334500   \n",
      "50%             14.760000                       0.252000            2.949500   \n",
      "75%             18.451500                       0.539000            6.778750   \n",
      "max             21.320000                       4.373000            9.715000   \n",
      "\n",
      "       LandMinTemperatureUncertainty  LandAndOceanAverageTemperature  \\\n",
      "count                    1992.000000                     1992.000000   \n",
      "mean                        0.431849                       15.212566   \n",
      "std                         0.445838                        1.274093   \n",
      "min                         0.045000                       12.475000   \n",
      "25%                         0.155000                       14.047000   \n",
      "50%                         0.279000                       15.251000   \n",
      "75%                         0.458250                       16.396250   \n",
      "max                         3.498000                       17.611000   \n",
      "\n",
      "       LandAndOceanAverageTemperatureUncertainty  \n",
      "count                                1992.000000  \n",
      "mean                                    0.128532  \n",
      "std                                     0.073587  \n",
      "min                                     0.042000  \n",
      "25%                                     0.063000  \n",
      "50%                                     0.122000  \n",
      "75%                                     0.151000  \n",
      "max                                     0.457000  \n",
      "Check amount of null values for each feature\n",
      "dt                                              0\n",
      "LandAverageTemperature                         12\n",
      "LandAverageTemperatureUncertainty              12\n",
      "LandMaxTemperature                           1200\n",
      "LandMaxTemperatureUncertainty                1200\n",
      "LandMinTemperature                           1200\n",
      "LandMinTemperatureUncertainty                1200\n",
      "LandAndOceanAverageTemperature               1200\n",
      "LandAndOceanAverageTemperatureUncertainty    1200\n",
      "dtype: int64\n"
     ]
    }
   ],
   "source": [
    "global_temperatures = DataHandler('./data/GlobalTemperatures.csv')\n",
    "global_temperatures.explore"
   ]
  }
 ],
 "metadata": {
  "kernelspec": {
   "display_name": "Python 3",
   "language": "python",
   "name": "python3"
  },
  "language_info": {
   "codemirror_mode": {
    "name": "ipython",
    "version": 3
   },
   "file_extension": ".py",
   "mimetype": "text/x-python",
   "name": "python",
   "nbconvert_exporter": "python",
   "pygments_lexer": "ipython3",
   "version": "3.12.5"
  }
 },
 "nbformat": 4,
 "nbformat_minor": 2
}
